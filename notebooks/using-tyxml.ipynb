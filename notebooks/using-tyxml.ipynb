{
  "worksheets": [
    {
      "cells": [
        {
          "source": [
            "Using TyXML with IOCamlJS"
          ],
          "metadata": {},
          "cell_type": "heading",
          "level": 1
        },
        {
          "source": [
            "We are running using the full version so we dont need to load camlp4"
          ],
          "metadata": {},
          "cell_type": "markdown"
        },
        {
          "outputs": [
            {
              "text": [
                "- : unit = ()\n"
              ],
              "output_type": "stream",
              "stream": "stdout"
            },
            {
              "text": [
                "Findlib has been successfully loaded. Additional directives:\n",
                "  #require \"package\";;      to load a package\n",
                "  #list;;                   to list the available packages\n",
                "  #camlp4o;;                to load camlp4 (standard syntax)\n",
                "  #camlp4r;;                to load camlp4 (revised syntax)\n",
                "  #predicates \"p,q,...\";;   to set these predicates\n",
                "  Topfind.reset();;         to force that packages will be reloaded\n",
                "  #thread;;                 to enable threads\n"
              ],
              "output_type": "stream",
              "stream": "stdout"
            },
            { "text": [
                "\n"
              ], "output_type": "stream", "stream": "stdout" },
            {
              "text": [
                "- : unit = ()\n"
              ],
              "output_type": "stream",
              "stream": "stdout"
            },
            {
              "text": [],
              "output_type": "pyout",
              "prompt_number": 2,
              "metadata": {}
            }
          ],
          "input": [
            "#use \"topfind\""
          ],
          "metadata": {},
          "cell_type": "code",
          "prompt_number": 2,
          "language": "python",
          "collapsed": false
        },
        {
          "source": [
            "Now load the TyXML library and syntax extension.  We currently \n",
            "need to add some predicates to 'Topfind' so the syntax extension \n",
            "loads properly.  A customised topfind for different iocamljs \n",
            "versions will eventually be needed."
          ],
          "metadata": {},
          "cell_type": "markdown"
        },
        {
          "outputs": [
            {
              "text": [
                "- : unit = ()\n"
              ],
              "output_type": "pyout",
              "prompt_number": 3,
              "metadata": {}
            }
          ],
          "input": [
            "Topfind.add_predicates[\"syntax\";\"camlp4o\"]"
          ],
          "metadata": {},
          "cell_type": "code",
          "prompt_number": 3,
          "language": "python",
          "collapsed": false
        },
        {
          "outputs": [
            {
              "text": [
                "/home/andyman/.opam/4.01.0-iocamljs/lib/ocaml/str.cma: loaded\n"
              ],
              "output_type": "stream",
              "stream": "stderr"
            },
            {
              "text": [
                "/home/andyman/.opam/4.01.0-iocamljs/lib/tyxml: added to search path\n"
              ],
              "output_type": "stream",
              "stream": "stderr"
            },
            {
              "text": [
                "/home/andyman/.opam/4.01.0-iocamljs/lib/tyxml/tyxml.cma: loaded\n"
              ],
              "output_type": "stream",
              "stream": "stderr"
            },
            {
              "text": [
                "/home/andyman/.opam/4.01.0-iocamljs/lib/tyxml/pa_tyxml.cma: loaded\n"
              ],
              "output_type": "stream",
              "stream": "stderr"
            },
            {
              "text": [],
              "output_type": "pyout",
              "prompt_number": 4,
              "metadata": {}
            }
          ],
          "input": [
            "#require \"tyxml.syntax\""
          ],
          "metadata": {},
          "cell_type": "code",
          "prompt_number": 4,
          "language": "python",
          "collapsed": false
        },
        {
          "source": [
            "Define a printing function which will display the HTML in the notebook."
          ],
          "metadata": {},
          "cell_type": "markdown"
        },
        {
          "outputs": [
            {
              "text": [
                "value html : list (Html5.M.elt 'a) -> unit = <fun>\n"
              ],
              "output_type": "pyout",
              "prompt_number": 5,
              "metadata": {}
            }
          ],
          "input": [
            "let html q = \n",
            "    let b = Buffer.create 10 in\n",
            "    Html5.P.print_list ~output:(Buffer.add_string b) q;\n",
            "    Iocaml.display \"text/html\" (Buffer.contents b)"
          ],
          "metadata": {},
          "cell_type": "code",
          "prompt_number": 5,
          "language": "python",
          "collapsed": false
        },
        {
          "source": [
            "We can now write some HTML.  Note the local binding of the Html5 module.  If we do this globally we get a JavaScript stack overflow exception.  I think this is due to printing a large module signature."
          ],
          "metadata": {},
          "cell_type": "markdown"
        },
        {
          "outputs": [
            {
              "text": [
                "value x : Html5.M.elt [> Html5_types.p ] = <abstr>\n"
              ],
              "output_type": "pyout",
              "prompt_number": 6,
              "metadata": {}
            }
          ],
          "input": [
            "let x = \n",
            "    let module Html5 = Html5.M in \n",
            "    <:html5< <p> <i>hello</i> <b>world</b> </p> >>"
          ],
          "metadata": {},
          "cell_type": "code",
          "prompt_number": 6,
          "language": "python",
          "collapsed": false
        },
        {
          "source": [
            "Now we can display the html"
          ],
          "metadata": {},
          "cell_type": "markdown"
        },
        {
          "outputs": [
            {
              "html": [
                "<p> <i>hello</i> <b>world</b> </p>"
              ],
              "output_type": "display_data",
              "metadata": {}
            },
            {
              "text": [
                "- : unit = ()\n"
              ],
              "output_type": "pyout",
              "prompt_number": 7,
              "metadata": {}
            }
          ],
          "input": [
            "html [x]"
          ],
          "metadata": {},
          "cell_type": "code",
          "prompt_number": 7,
          "language": "python",
          "collapsed": false
        }
      ],
      "metadata": {}
    }
  ],
  "metadata": { "name": "", "language": "ocaml" },
  "nbformat": 3,
  "nbformat_minor": 0
}